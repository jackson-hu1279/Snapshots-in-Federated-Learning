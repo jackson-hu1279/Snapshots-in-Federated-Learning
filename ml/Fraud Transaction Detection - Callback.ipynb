{
 "cells": [
  {
   "cell_type": "code",
   "execution_count": 1,
   "id": "99c289ea",
   "metadata": {},
   "outputs": [],
   "source": [
    "import pandas as pd\n",
    "import numpy as np"
   ]
  },
  {
   "cell_type": "code",
   "execution_count": 2,
   "id": "86292061",
   "metadata": {},
   "outputs": [
    {
     "data": {
      "text/html": [
       "<div>\n",
       "<style scoped>\n",
       "    .dataframe tbody tr th:only-of-type {\n",
       "        vertical-align: middle;\n",
       "    }\n",
       "\n",
       "    .dataframe tbody tr th {\n",
       "        vertical-align: top;\n",
       "    }\n",
       "\n",
       "    .dataframe thead th {\n",
       "        text-align: right;\n",
       "    }\n",
       "</style>\n",
       "<table border=\"1\" class=\"dataframe\">\n",
       "  <thead>\n",
       "    <tr style=\"text-align: right;\">\n",
       "      <th></th>\n",
       "      <th>Time</th>\n",
       "      <th>V1</th>\n",
       "      <th>V2</th>\n",
       "      <th>V3</th>\n",
       "      <th>V4</th>\n",
       "      <th>V5</th>\n",
       "      <th>V6</th>\n",
       "      <th>V7</th>\n",
       "      <th>V8</th>\n",
       "      <th>V9</th>\n",
       "      <th>...</th>\n",
       "      <th>V21</th>\n",
       "      <th>V22</th>\n",
       "      <th>V23</th>\n",
       "      <th>V24</th>\n",
       "      <th>V25</th>\n",
       "      <th>V26</th>\n",
       "      <th>V27</th>\n",
       "      <th>V28</th>\n",
       "      <th>Amount</th>\n",
       "      <th>isFraud</th>\n",
       "    </tr>\n",
       "  </thead>\n",
       "  <tbody>\n",
       "    <tr>\n",
       "      <th>0</th>\n",
       "      <td>88672.0</td>\n",
       "      <td>-3.859881</td>\n",
       "      <td>2.632881</td>\n",
       "      <td>-5.264265</td>\n",
       "      <td>3.446113</td>\n",
       "      <td>-0.675231</td>\n",
       "      <td>-1.904959</td>\n",
       "      <td>-3.291041</td>\n",
       "      <td>-0.985766</td>\n",
       "      <td>-1.168114</td>\n",
       "      <td>...</td>\n",
       "      <td>1.664119</td>\n",
       "      <td>0.785075</td>\n",
       "      <td>0.068412</td>\n",
       "      <td>0.778961</td>\n",
       "      <td>-0.863166</td>\n",
       "      <td>-0.006810</td>\n",
       "      <td>-1.065734</td>\n",
       "      <td>1.773326</td>\n",
       "      <td>1.18</td>\n",
       "      <td>1</td>\n",
       "    </tr>\n",
       "    <tr>\n",
       "      <th>1</th>\n",
       "      <td>62059.0</td>\n",
       "      <td>-1.644403</td>\n",
       "      <td>3.129852</td>\n",
       "      <td>-2.576977</td>\n",
       "      <td>3.415573</td>\n",
       "      <td>-0.448525</td>\n",
       "      <td>-1.241893</td>\n",
       "      <td>-1.991652</td>\n",
       "      <td>1.002665</td>\n",
       "      <td>-2.809071</td>\n",
       "      <td>...</td>\n",
       "      <td>0.417762</td>\n",
       "      <td>-0.648576</td>\n",
       "      <td>-0.318617</td>\n",
       "      <td>-0.680413</td>\n",
       "      <td>0.389869</td>\n",
       "      <td>0.055750</td>\n",
       "      <td>0.394682</td>\n",
       "      <td>0.298821</td>\n",
       "      <td>6.62</td>\n",
       "      <td>1</td>\n",
       "    </tr>\n",
       "    <tr>\n",
       "      <th>2</th>\n",
       "      <td>13323.0</td>\n",
       "      <td>-5.454362</td>\n",
       "      <td>8.287421</td>\n",
       "      <td>-12.752811</td>\n",
       "      <td>8.594342</td>\n",
       "      <td>-3.106002</td>\n",
       "      <td>-3.179949</td>\n",
       "      <td>-9.252794</td>\n",
       "      <td>4.245062</td>\n",
       "      <td>-6.329801</td>\n",
       "      <td>...</td>\n",
       "      <td>1.846165</td>\n",
       "      <td>-0.267172</td>\n",
       "      <td>-0.310804</td>\n",
       "      <td>-1.201685</td>\n",
       "      <td>1.352176</td>\n",
       "      <td>0.608425</td>\n",
       "      <td>1.574715</td>\n",
       "      <td>0.808725</td>\n",
       "      <td>1.00</td>\n",
       "      <td>1</td>\n",
       "    </tr>\n",
       "    <tr>\n",
       "      <th>3</th>\n",
       "      <td>93965.0</td>\n",
       "      <td>-11.397727</td>\n",
       "      <td>7.763953</td>\n",
       "      <td>-18.572307</td>\n",
       "      <td>6.711855</td>\n",
       "      <td>-10.174216</td>\n",
       "      <td>-4.395918</td>\n",
       "      <td>-15.893788</td>\n",
       "      <td>2.083013</td>\n",
       "      <td>-4.988837</td>\n",
       "      <td>...</td>\n",
       "      <td>0.339007</td>\n",
       "      <td>1.342923</td>\n",
       "      <td>0.239217</td>\n",
       "      <td>0.534644</td>\n",
       "      <td>-0.174965</td>\n",
       "      <td>-0.500240</td>\n",
       "      <td>-1.722060</td>\n",
       "      <td>-0.574339</td>\n",
       "      <td>11.40</td>\n",
       "      <td>1</td>\n",
       "    </tr>\n",
       "    <tr>\n",
       "      <th>4</th>\n",
       "      <td>52934.0</td>\n",
       "      <td>1.036639</td>\n",
       "      <td>0.407227</td>\n",
       "      <td>0.757706</td>\n",
       "      <td>3.161821</td>\n",
       "      <td>-0.568122</td>\n",
       "      <td>0.202181</td>\n",
       "      <td>-0.689804</td>\n",
       "      <td>0.411380</td>\n",
       "      <td>0.336769</td>\n",
       "      <td>...</td>\n",
       "      <td>-0.050108</td>\n",
       "      <td>0.123761</td>\n",
       "      <td>-0.132568</td>\n",
       "      <td>0.350231</td>\n",
       "      <td>0.507701</td>\n",
       "      <td>0.189621</td>\n",
       "      <td>0.061016</td>\n",
       "      <td>0.063141</td>\n",
       "      <td>0.76</td>\n",
       "      <td>1</td>\n",
       "    </tr>\n",
       "  </tbody>\n",
       "</table>\n",
       "<p>5 rows × 31 columns</p>\n",
       "</div>"
      ],
      "text/plain": [
       "      Time         V1        V2         V3        V4         V5        V6   \n",
       "0  88672.0  -3.859881  2.632881  -5.264265  3.446113  -0.675231 -1.904959  \\\n",
       "1  62059.0  -1.644403  3.129852  -2.576977  3.415573  -0.448525 -1.241893   \n",
       "2  13323.0  -5.454362  8.287421 -12.752811  8.594342  -3.106002 -3.179949   \n",
       "3  93965.0 -11.397727  7.763953 -18.572307  6.711855 -10.174216 -4.395918   \n",
       "4  52934.0   1.036639  0.407227   0.757706  3.161821  -0.568122  0.202181   \n",
       "\n",
       "          V7        V8        V9  ...       V21       V22       V23       V24   \n",
       "0  -3.291041 -0.985766 -1.168114  ...  1.664119  0.785075  0.068412  0.778961  \\\n",
       "1  -1.991652  1.002665 -2.809071  ...  0.417762 -0.648576 -0.318617 -0.680413   \n",
       "2  -9.252794  4.245062 -6.329801  ...  1.846165 -0.267172 -0.310804 -1.201685   \n",
       "3 -15.893788  2.083013 -4.988837  ...  0.339007  1.342923  0.239217  0.534644   \n",
       "4  -0.689804  0.411380  0.336769  ... -0.050108  0.123761 -0.132568  0.350231   \n",
       "\n",
       "        V25       V26       V27       V28  Amount  isFraud  \n",
       "0 -0.863166 -0.006810 -1.065734  1.773326    1.18        1  \n",
       "1  0.389869  0.055750  0.394682  0.298821    6.62        1  \n",
       "2  1.352176  0.608425  1.574715  0.808725    1.00        1  \n",
       "3 -0.174965 -0.500240 -1.722060 -0.574339   11.40        1  \n",
       "4  0.507701  0.189621  0.061016  0.063141    0.76        1  \n",
       "\n",
       "[5 rows x 31 columns]"
      ]
     },
     "execution_count": 2,
     "metadata": {},
     "output_type": "execute_result"
    }
   ],
   "source": [
    "from sklearn.model_selection import train_test_split\n",
    "from sklearn.preprocessing import StandardScaler\n",
    "\n",
    "data = pd.read_csv('credit_batch_1.csv')\n",
    "data.head()"
   ]
  },
  {
   "cell_type": "code",
   "execution_count": 3,
   "id": "45c4fd6e",
   "metadata": {},
   "outputs": [
    {
     "data": {
      "text/plain": [
       "isFraud\n",
       "0    8000\n",
       "1     490\n",
       "Name: count, dtype: int64"
      ]
     },
     "execution_count": 3,
     "metadata": {},
     "output_type": "execute_result"
    }
   ],
   "source": [
    "data['isFraud'].value_counts()"
   ]
  },
  {
   "cell_type": "markdown",
   "id": "b2f6aeb1",
   "metadata": {},
   "source": [
    "## Split Dataset"
   ]
  },
  {
   "cell_type": "code",
   "execution_count": 4,
   "id": "0ed9bb94",
   "metadata": {},
   "outputs": [],
   "source": [
    "X = data.drop(['isFraud'], axis=1)\n",
    "y = data['isFraud']\n",
    "\n",
    "#Standardization\n",
    "scaler = StandardScaler()\n",
    "X = scaler.fit_transform(X)\n",
    "\n",
    "X_train, X_test, y_train, y_test = train_test_split(X, y, test_size=.2)"
   ]
  },
  {
   "cell_type": "code",
   "execution_count": 5,
   "id": "043d7812",
   "metadata": {},
   "outputs": [
    {
     "data": {
      "text/plain": [
       "isFraud\n",
       "0    6396\n",
       "1    6396\n",
       "Name: count, dtype: int64"
      ]
     },
     "execution_count": 5,
     "metadata": {},
     "output_type": "execute_result"
    }
   ],
   "source": [
    "from imblearn.over_sampling import SMOTE\n",
    "X_train, y_train = SMOTE(random_state=75).fit_resample(X_train, y_train)\n",
    "\n",
    "pd.Series(y_train).value_counts()"
   ]
  },
  {
   "cell_type": "markdown",
   "id": "e08eeed1",
   "metadata": {},
   "source": [
    "## Define TF Model Layers"
   ]
  },
  {
   "cell_type": "code",
   "execution_count": 6,
   "id": "9744e94f",
   "metadata": {},
   "outputs": [
    {
     "name": "stderr",
     "output_type": "stream",
     "text": [
      "2023-05-02 21:19:51.730704: I tensorflow/core/platform/cpu_feature_guard.cc:182] This TensorFlow binary is optimized to use available CPU instructions in performance-critical operations.\n",
      "To enable the following instructions: AVX2 FMA, in other operations, rebuild TensorFlow with the appropriate compiler flags.\n"
     ]
    }
   ],
   "source": [
    "import tensorflow as tf\n",
    "from tensorflow.keras.models import Sequential, load_model\n",
    "from tensorflow.keras.layers import Dense, Dropout\n",
    "from sklearn.metrics import accuracy_score"
   ]
  },
  {
   "cell_type": "code",
   "execution_count": 7,
   "id": "8f971404",
   "metadata": {},
   "outputs": [],
   "source": [
    "# DNN\n",
    "model = Sequential([\n",
    "Dense(input_dim = 30, units = 128, activation = \"relu\"),\n",
    "Dense(units= 64, activation = \"relu\"),\n",
    "Dropout(0.2),\n",
    "Dense(units= 32, activation = \"relu\"),\n",
    "Dropout(0.2),\n",
    "Dense(units= 16, activation = \"relu\"),\n",
    "Dropout(0.2),\n",
    "Dense(units=1, activation = \"sigmoid\")])"
   ]
  },
  {
   "cell_type": "code",
   "execution_count": 8,
   "id": "4b5bcc2b",
   "metadata": {},
   "outputs": [],
   "source": [
    "# Add training callbacks\n",
    "from keras.callbacks import LambdaCallback, Callback\n",
    "\n",
    "current_epoch = 0\n",
    "current_weights = None\n",
    "current_loss = None\n",
    "current_accuracy = None\n",
    "\n",
    "def update_current_epoch():\n",
    "    global current_epoch\n",
    "    current_epoch += 1\n",
    "    \n",
    "def update_current_weights():\n",
    "    global current_weights\n",
    "    current_weights = model.layers[0].get_weights()\n",
    "    \n",
    "def update_current_performance(loss, accuracy):\n",
    "    global current_loss, current_accuracy\n",
    "    current_loss = loss\n",
    "    current_accuracy = accuracy\n",
    "\n",
    "class CustomCallback(Callback):\n",
    "\n",
    "    def on_epoch_end(self, batch, logs=None):\n",
    "        update_current_epoch()\n",
    "        update_current_weights()\n",
    "        update_current_performance(logs['loss'], logs['accuracy'])\n",
    "\n",
    "\n",
    "model.compile(loss='binary_crossentropy', optimizer='adam', metrics='accuracy')"
   ]
  },
  {
   "cell_type": "markdown",
   "id": "ba630290",
   "metadata": {},
   "source": [
    "## Model Training"
   ]
  },
  {
   "cell_type": "code",
   "execution_count": 9,
   "id": "c04e4f45",
   "metadata": {
    "scrolled": true
   },
   "outputs": [
    {
     "name": "stdout",
     "output_type": "stream",
     "text": [
      "Epoch 1/50\n",
      "128/128 [==============================] - 1s 990us/step - loss: 0.2497 - accuracy: 0.9031\n",
      "Epoch 2/50\n",
      "128/128 [==============================] - 0s 902us/step - loss: 0.1019 - accuracy: 0.9621\n",
      "Epoch 3/50\n",
      "128/128 [==============================] - 0s 907us/step - loss: 0.0626 - accuracy: 0.9776\n",
      "Epoch 4/50\n",
      "128/128 [==============================] - 0s 904us/step - loss: 0.0358 - accuracy: 0.9881\n",
      "Epoch 5/50\n",
      "128/128 [==============================] - 0s 897us/step - loss: 0.0262 - accuracy: 0.9934\n",
      "Epoch 6/50\n",
      "128/128 [==============================] - 0s 931us/step - loss: 0.0171 - accuracy: 0.9955\n",
      "Epoch 7/50\n",
      "128/128 [==============================] - 0s 970us/step - loss: 0.0115 - accuracy: 0.9970\n",
      "Epoch 8/50\n",
      "128/128 [==============================] - 0s 920us/step - loss: 0.0128 - accuracy: 0.9973\n",
      "Epoch 9/50\n",
      "128/128 [==============================] - 0s 910us/step - loss: 0.0080 - accuracy: 0.9979\n",
      "Epoch 10/50\n",
      "128/128 [==============================] - 0s 925us/step - loss: 0.0056 - accuracy: 0.9990\n",
      "Epoch 11/50\n",
      "128/128 [==============================] - 0s 894us/step - loss: 0.0053 - accuracy: 0.9990\n",
      "Epoch 12/50\n",
      "128/128 [==============================] - 0s 894us/step - loss: 0.0122 - accuracy: 0.9974\n",
      "Epoch 13/50\n",
      "128/128 [==============================] - 0s 883us/step - loss: 0.0088 - accuracy: 0.9977\n",
      "Epoch 14/50\n",
      "128/128 [==============================] - 0s 883us/step - loss: 0.0044 - accuracy: 0.9991\n",
      "Epoch 15/50\n",
      "128/128 [==============================] - 0s 885us/step - loss: 0.0030 - accuracy: 0.9995\n",
      "Epoch 16/50\n",
      "128/128 [==============================] - 0s 876us/step - loss: 0.0037 - accuracy: 0.9991\n",
      "Epoch 17/50\n",
      "128/128 [==============================] - 0s 894us/step - loss: 0.0036 - accuracy: 0.9991\n",
      "Epoch 18/50\n",
      "128/128 [==============================] - 0s 886us/step - loss: 0.0056 - accuracy: 0.9990\n",
      "Epoch 19/50\n",
      "128/128 [==============================] - 0s 884us/step - loss: 0.0010 - accuracy: 0.9997\n",
      "Epoch 20/50\n",
      "128/128 [==============================] - 0s 887us/step - loss: 0.0024 - accuracy: 0.9995\n",
      "Epoch 21/50\n",
      "128/128 [==============================] - 0s 880us/step - loss: 0.0038 - accuracy: 0.9989\n",
      "Epoch 22/50\n",
      "128/128 [==============================] - 0s 894us/step - loss: 0.0015 - accuracy: 0.9998\n",
      "Epoch 23/50\n",
      "128/128 [==============================] - 0s 891us/step - loss: 0.0026 - accuracy: 0.9993\n",
      "Epoch 24/50\n",
      "128/128 [==============================] - 0s 879us/step - loss: 0.0072 - accuracy: 0.9980\n",
      "Epoch 25/50\n",
      "128/128 [==============================] - 0s 880us/step - loss: 0.0010 - accuracy: 0.9998\n",
      "Epoch 26/50\n",
      "128/128 [==============================] - 0s 901us/step - loss: 6.6073e-04 - accuracy: 0.9999\n",
      "Epoch 27/50\n",
      "128/128 [==============================] - 0s 879us/step - loss: 7.7853e-04 - accuracy: 0.9998\n",
      "Epoch 28/50\n",
      "128/128 [==============================] - 0s 884us/step - loss: 0.0017 - accuracy: 0.9995\n",
      "Epoch 29/50\n",
      "128/128 [==============================] - 0s 894us/step - loss: 0.0024 - accuracy: 0.9995\n",
      "Epoch 30/50\n",
      "128/128 [==============================] - 0s 884us/step - loss: 4.4796e-04 - accuracy: 0.9999\n",
      "Epoch 31/50\n",
      "128/128 [==============================] - 0s 878us/step - loss: 3.2428e-04 - accuracy: 0.9999\n",
      "Epoch 32/50\n",
      "128/128 [==============================] - 0s 884us/step - loss: 2.2421e-04 - accuracy: 1.0000\n",
      "Epoch 33/50\n",
      "128/128 [==============================] - 0s 902us/step - loss: 2.1503e-04 - accuracy: 1.0000\n",
      "Epoch 34/50\n",
      "128/128 [==============================] - 0s 930us/step - loss: 0.0016 - accuracy: 0.9996\n",
      "Epoch 35/50\n",
      "128/128 [==============================] - 0s 935us/step - loss: 0.0048 - accuracy: 0.9987\n",
      "Epoch 36/50\n",
      "128/128 [==============================] - 0s 917us/step - loss: 0.0024 - accuracy: 0.9996\n",
      "Epoch 37/50\n",
      "128/128 [==============================] - 0s 927us/step - loss: 9.1133e-04 - accuracy: 0.9999\n",
      "Epoch 38/50\n",
      "128/128 [==============================] - 0s 890us/step - loss: 0.0027 - accuracy: 0.9996\n",
      "Epoch 39/50\n",
      "128/128 [==============================] - 0s 885us/step - loss: 0.0056 - accuracy: 0.9988\n",
      "Epoch 40/50\n",
      "128/128 [==============================] - 0s 885us/step - loss: 0.0023 - accuracy: 0.9995\n",
      "Epoch 41/50\n",
      "128/128 [==============================] - 0s 888us/step - loss: 7.2248e-04 - accuracy: 0.9999\n",
      "Epoch 42/50\n",
      "128/128 [==============================] - 0s 890us/step - loss: 3.3345e-04 - accuracy: 1.0000\n",
      "Epoch 43/50\n",
      "128/128 [==============================] - 0s 944us/step - loss: 3.6313e-04 - accuracy: 1.0000\n",
      "Epoch 44/50\n",
      "128/128 [==============================] - 0s 903us/step - loss: 3.5994e-04 - accuracy: 1.0000\n",
      "Epoch 45/50\n",
      "128/128 [==============================] - 0s 905us/step - loss: 0.0034 - accuracy: 0.9991\n",
      "Epoch 46/50\n",
      "128/128 [==============================] - 0s 938us/step - loss: 9.8134e-04 - accuracy: 0.9997\n",
      "Epoch 47/50\n",
      "128/128 [==============================] - 0s 884us/step - loss: 2.3431e-04 - accuracy: 1.0000\n",
      "Epoch 48/50\n",
      "128/128 [==============================] - 0s 886us/step - loss: 1.8909e-04 - accuracy: 1.0000\n",
      "Epoch 49/50\n",
      "128/128 [==============================] - 0s 884us/step - loss: 1.3508e-04 - accuracy: 1.0000\n",
      "Epoch 50/50\n",
      "128/128 [==============================] - 0s 882us/step - loss: 0.0054 - accuracy: 0.9985\n"
     ]
    },
    {
     "data": {
      "text/plain": [
       "<keras.callbacks.History at 0x7f9d3a2a7220>"
      ]
     },
     "execution_count": 9,
     "metadata": {},
     "output_type": "execute_result"
    }
   ],
   "source": [
    "X_train = np.asarray(X_train).astype(np.float32)\n",
    "y_train = np.asarray(y_train).astype(np.float32)\n",
    "\n",
    "X_test = np.asarray(X_test).astype(np.float32)\n",
    "y_test = np.asarray(y_test).astype(np.float32)\n",
    "\n",
    "model.fit(X_train, y_train, epochs=50, batch_size=100, callbacks = [CustomCallback()])"
   ]
  },
  {
   "cell_type": "markdown",
   "id": "5e62d931",
   "metadata": {},
   "source": [
    "## Model Evaluation"
   ]
  },
  {
   "cell_type": "code",
   "execution_count": 10,
   "id": "e3aa5105",
   "metadata": {},
   "outputs": [
    {
     "name": "stdout",
     "output_type": "stream",
     "text": [
      "54/54 [==============================] - 0s 570us/step\n"
     ]
    }
   ],
   "source": [
    "y_hat = model.predict(X_test)\n",
    "y_hat = [0 if val < 0.5 else 1 for val in y_hat]"
   ]
  },
  {
   "cell_type": "code",
   "execution_count": 11,
   "id": "33f4a76e",
   "metadata": {},
   "outputs": [
    {
     "data": {
      "text/plain": [
       "0.9840989399293286"
      ]
     },
     "execution_count": 11,
     "metadata": {},
     "output_type": "execute_result"
    }
   ],
   "source": [
    "accuracy_score(y_test, y_hat)"
   ]
  },
  {
   "cell_type": "code",
   "execution_count": 12,
   "id": "4cbe77f3",
   "metadata": {},
   "outputs": [
    {
     "name": "stdout",
     "output_type": "stream",
     "text": [
      "54/54 [==============================] - 0s 662us/step - loss: 0.2739 - accuracy: 0.9841\n"
     ]
    },
    {
     "data": {
      "text/plain": [
       "[0.27391913533210754, 0.9840989112854004]"
      ]
     },
     "execution_count": 12,
     "metadata": {},
     "output_type": "execute_result"
    }
   ],
   "source": [
    "model.evaluate(X_test, y_test)"
   ]
  },
  {
   "cell_type": "markdown",
   "id": "8146ac28",
   "metadata": {},
   "source": [
    "## Save Model"
   ]
  },
  {
   "cell_type": "code",
   "execution_count": 13,
   "id": "39a02448",
   "metadata": {},
   "outputs": [],
   "source": [
    "# model.save('pretrained_model')"
   ]
  },
  {
   "cell_type": "code",
   "execution_count": 14,
   "id": "bde4927e",
   "metadata": {},
   "outputs": [],
   "source": [
    "# # Load model\n",
    "# del model\n",
    "# model = load_model('pretrained_model')"
   ]
  },
  {
   "cell_type": "code",
   "execution_count": null,
   "id": "77dc6f58",
   "metadata": {},
   "outputs": [],
   "source": []
  },
  {
   "cell_type": "markdown",
   "id": "772850df",
   "metadata": {},
   "source": [
    "## Check Updated Local States"
   ]
  },
  {
   "cell_type": "code",
   "execution_count": 15,
   "id": "c32e3d92",
   "metadata": {},
   "outputs": [],
   "source": [
    "def check_local_state():\n",
    "    print(\"Current epoch:\", current_epoch)\n",
    "    print(\"Current weights:\", current_weights)\n",
    "    print(\"Current loss: {}, accuracy: {}\".format(current_loss, current_accuracy))"
   ]
  },
  {
   "cell_type": "code",
   "execution_count": 16,
   "id": "f68befeb",
   "metadata": {},
   "outputs": [
    {
     "name": "stdout",
     "output_type": "stream",
     "text": [
      "Current epoch: 50\n",
      "Current weights: [array([[ 0.02839822,  0.03048912,  0.10042934, ...,  0.15129304,\n",
      "        -0.06943314,  0.05577709],\n",
      "       [ 0.18394242,  0.256213  ,  0.08248425, ...,  0.09234717,\n",
      "         0.14910537, -0.06446946],\n",
      "       [-0.14790821, -0.05008426,  0.07158373, ..., -0.2188114 ,\n",
      "         0.07215978, -0.15730463],\n",
      "       ...,\n",
      "       [-0.06779347, -0.24300516, -0.00193673, ..., -0.05084925,\n",
      "        -0.09523406, -0.12274578],\n",
      "       [-0.02935541, -0.08869563, -0.05736782, ..., -0.08259995,\n",
      "        -0.15351874, -0.24491331],\n",
      "       [-0.10190838,  0.07170135,  0.06277834, ..., -0.1906175 ,\n",
      "         0.03684642,  0.19233014]], dtype=float32), array([-5.78013770e-02, -1.44956917e-01, -8.41112360e-02, -1.48280144e-01,\n",
      "       -1.44087806e-01,  1.91065352e-02, -2.95146052e-02, -6.56439215e-02,\n",
      "       -2.93578655e-02, -7.48589486e-02, -9.41459537e-02, -1.37702078e-01,\n",
      "        4.71644178e-02, -5.84430285e-02, -1.13337934e-02, -4.66555357e-02,\n",
      "       -7.30674937e-02, -1.75285161e-01, -1.61495265e-02, -3.13016959e-02,\n",
      "       -1.31799057e-01, -4.33283225e-02,  5.65474387e-03, -5.17674349e-02,\n",
      "       -5.15262969e-02, -1.62426561e-01, -3.66237648e-02,  4.06228192e-02,\n",
      "        1.56420007e-01,  1.48215960e-03, -9.89534929e-02, -5.19791543e-02,\n",
      "        2.22475827e-02, -4.72387411e-02, -1.03155850e-02, -1.12737708e-01,\n",
      "       -1.35375381e-01,  3.29034515e-02, -7.24292267e-03,  1.14891149e-01,\n",
      "       -1.79632932e-01,  6.40963763e-02, -1.96682755e-02, -8.79372060e-02,\n",
      "       -3.77175100e-02, -1.88037136e-03, -6.54999316e-02, -3.04318741e-02,\n",
      "       -7.88470805e-02,  7.04429075e-02, -5.94008081e-02, -5.38132042e-02,\n",
      "       -8.92846808e-02,  3.70782707e-03, -1.79527536e-01, -4.90455329e-02,\n",
      "       -7.21210390e-02, -1.05329007e-01, -3.82721573e-02, -4.19519842e-02,\n",
      "        3.23138759e-02, -1.01711445e-01, -4.66971733e-02, -7.20848441e-02,\n",
      "       -1.14277728e-01, -3.02798972e-02, -8.08643550e-02, -8.07842314e-02,\n",
      "       -1.29192919e-01, -3.64130251e-02,  7.91782066e-02,  3.81067395e-02,\n",
      "        2.16387380e-02, -9.36031714e-02, -1.12891540e-01, -1.33137077e-01,\n",
      "       -1.21919755e-02, -1.07559256e-01, -8.78238771e-03, -1.90849468e-01,\n",
      "       -2.63899774e-03, -5.19726723e-02, -9.39697698e-02,  2.04890668e-02,\n",
      "       -4.35833931e-02, -1.30288434e-04, -1.30067617e-01, -1.29218414e-01,\n",
      "       -5.96634895e-02, -3.74208800e-02, -1.90650411e-02, -4.72479016e-02,\n",
      "        2.72199195e-02, -1.24025926e-01, -6.02359362e-02, -1.39341518e-01,\n",
      "       -5.42602614e-02, -9.24166664e-02, -6.48755729e-02, -1.38239479e-02,\n",
      "       -4.47195806e-02,  6.50647506e-02, -1.51194751e-01, -4.50334474e-02,\n",
      "       -1.69868812e-01, -5.83145916e-02, -2.18042359e-01, -1.67598575e-01,\n",
      "       -2.72211377e-02, -1.79365545e-03, -9.32979807e-02, -1.25301123e-01,\n",
      "       -1.16346344e-01, -8.02405849e-02, -5.01727238e-02,  4.09708135e-02,\n",
      "       -7.35998005e-02, -1.02659985e-01, -9.42212194e-02, -2.46467139e-03,\n",
      "        3.94514911e-02, -2.15402216e-01,  3.97110209e-02,  1.27537698e-02,\n",
      "       -6.74630329e-02, -8.28757212e-02, -1.67943969e-01,  5.93956374e-02],\n",
      "      dtype=float32)]\n",
      "Current loss: 0.005411424208432436, accuracy: 0.998514711856842\n"
     ]
    }
   ],
   "source": [
    "check_local_state()"
   ]
  }
 ],
 "metadata": {
  "kernelspec": {
   "display_name": "Python 3 (ipykernel)",
   "language": "python",
   "name": "python3"
  },
  "language_info": {
   "codemirror_mode": {
    "name": "ipython",
    "version": 3
   },
   "file_extension": ".py",
   "mimetype": "text/x-python",
   "name": "python",
   "nbconvert_exporter": "python",
   "pygments_lexer": "ipython3",
   "version": "3.10.11"
  }
 },
 "nbformat": 4,
 "nbformat_minor": 5
}
