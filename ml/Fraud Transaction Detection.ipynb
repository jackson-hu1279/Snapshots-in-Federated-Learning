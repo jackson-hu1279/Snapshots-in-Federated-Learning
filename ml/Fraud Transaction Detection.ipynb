{
 "cells": [
  {
   "cell_type": "code",
   "execution_count": 1,
   "id": "99c289ea",
   "metadata": {},
   "outputs": [],
   "source": [
    "import pandas as pd\n",
    "import numpy as np"
   ]
  },
  {
   "cell_type": "code",
   "execution_count": 2,
   "id": "86292061",
   "metadata": {},
   "outputs": [
    {
     "data": {
      "text/html": [
       "<div>\n",
       "<style scoped>\n",
       "    .dataframe tbody tr th:only-of-type {\n",
       "        vertical-align: middle;\n",
       "    }\n",
       "\n",
       "    .dataframe tbody tr th {\n",
       "        vertical-align: top;\n",
       "    }\n",
       "\n",
       "    .dataframe thead th {\n",
       "        text-align: right;\n",
       "    }\n",
       "</style>\n",
       "<table border=\"1\" class=\"dataframe\">\n",
       "  <thead>\n",
       "    <tr style=\"text-align: right;\">\n",
       "      <th></th>\n",
       "      <th>Time</th>\n",
       "      <th>V1</th>\n",
       "      <th>V2</th>\n",
       "      <th>V3</th>\n",
       "      <th>V4</th>\n",
       "      <th>V5</th>\n",
       "      <th>V6</th>\n",
       "      <th>V7</th>\n",
       "      <th>V8</th>\n",
       "      <th>V9</th>\n",
       "      <th>...</th>\n",
       "      <th>V21</th>\n",
       "      <th>V22</th>\n",
       "      <th>V23</th>\n",
       "      <th>V24</th>\n",
       "      <th>V25</th>\n",
       "      <th>V26</th>\n",
       "      <th>V27</th>\n",
       "      <th>V28</th>\n",
       "      <th>Amount</th>\n",
       "      <th>isFraud</th>\n",
       "    </tr>\n",
       "  </thead>\n",
       "  <tbody>\n",
       "    <tr>\n",
       "      <th>0</th>\n",
       "      <td>88672.0</td>\n",
       "      <td>-3.859881</td>\n",
       "      <td>2.632881</td>\n",
       "      <td>-5.264265</td>\n",
       "      <td>3.446113</td>\n",
       "      <td>-0.675231</td>\n",
       "      <td>-1.904959</td>\n",
       "      <td>-3.291041</td>\n",
       "      <td>-0.985766</td>\n",
       "      <td>-1.168114</td>\n",
       "      <td>...</td>\n",
       "      <td>1.664119</td>\n",
       "      <td>0.785075</td>\n",
       "      <td>0.068412</td>\n",
       "      <td>0.778961</td>\n",
       "      <td>-0.863166</td>\n",
       "      <td>-0.006810</td>\n",
       "      <td>-1.065734</td>\n",
       "      <td>1.773326</td>\n",
       "      <td>1.18</td>\n",
       "      <td>1</td>\n",
       "    </tr>\n",
       "    <tr>\n",
       "      <th>1</th>\n",
       "      <td>62059.0</td>\n",
       "      <td>-1.644403</td>\n",
       "      <td>3.129852</td>\n",
       "      <td>-2.576977</td>\n",
       "      <td>3.415573</td>\n",
       "      <td>-0.448525</td>\n",
       "      <td>-1.241893</td>\n",
       "      <td>-1.991652</td>\n",
       "      <td>1.002665</td>\n",
       "      <td>-2.809071</td>\n",
       "      <td>...</td>\n",
       "      <td>0.417762</td>\n",
       "      <td>-0.648576</td>\n",
       "      <td>-0.318617</td>\n",
       "      <td>-0.680413</td>\n",
       "      <td>0.389869</td>\n",
       "      <td>0.055750</td>\n",
       "      <td>0.394682</td>\n",
       "      <td>0.298821</td>\n",
       "      <td>6.62</td>\n",
       "      <td>1</td>\n",
       "    </tr>\n",
       "    <tr>\n",
       "      <th>2</th>\n",
       "      <td>13323.0</td>\n",
       "      <td>-5.454362</td>\n",
       "      <td>8.287421</td>\n",
       "      <td>-12.752811</td>\n",
       "      <td>8.594342</td>\n",
       "      <td>-3.106002</td>\n",
       "      <td>-3.179949</td>\n",
       "      <td>-9.252794</td>\n",
       "      <td>4.245062</td>\n",
       "      <td>-6.329801</td>\n",
       "      <td>...</td>\n",
       "      <td>1.846165</td>\n",
       "      <td>-0.267172</td>\n",
       "      <td>-0.310804</td>\n",
       "      <td>-1.201685</td>\n",
       "      <td>1.352176</td>\n",
       "      <td>0.608425</td>\n",
       "      <td>1.574715</td>\n",
       "      <td>0.808725</td>\n",
       "      <td>1.00</td>\n",
       "      <td>1</td>\n",
       "    </tr>\n",
       "    <tr>\n",
       "      <th>3</th>\n",
       "      <td>93965.0</td>\n",
       "      <td>-11.397727</td>\n",
       "      <td>7.763953</td>\n",
       "      <td>-18.572307</td>\n",
       "      <td>6.711855</td>\n",
       "      <td>-10.174216</td>\n",
       "      <td>-4.395918</td>\n",
       "      <td>-15.893788</td>\n",
       "      <td>2.083013</td>\n",
       "      <td>-4.988837</td>\n",
       "      <td>...</td>\n",
       "      <td>0.339007</td>\n",
       "      <td>1.342923</td>\n",
       "      <td>0.239217</td>\n",
       "      <td>0.534644</td>\n",
       "      <td>-0.174965</td>\n",
       "      <td>-0.500240</td>\n",
       "      <td>-1.722060</td>\n",
       "      <td>-0.574339</td>\n",
       "      <td>11.40</td>\n",
       "      <td>1</td>\n",
       "    </tr>\n",
       "    <tr>\n",
       "      <th>4</th>\n",
       "      <td>52934.0</td>\n",
       "      <td>1.036639</td>\n",
       "      <td>0.407227</td>\n",
       "      <td>0.757706</td>\n",
       "      <td>3.161821</td>\n",
       "      <td>-0.568122</td>\n",
       "      <td>0.202181</td>\n",
       "      <td>-0.689804</td>\n",
       "      <td>0.411380</td>\n",
       "      <td>0.336769</td>\n",
       "      <td>...</td>\n",
       "      <td>-0.050108</td>\n",
       "      <td>0.123761</td>\n",
       "      <td>-0.132568</td>\n",
       "      <td>0.350231</td>\n",
       "      <td>0.507701</td>\n",
       "      <td>0.189621</td>\n",
       "      <td>0.061016</td>\n",
       "      <td>0.063141</td>\n",
       "      <td>0.76</td>\n",
       "      <td>1</td>\n",
       "    </tr>\n",
       "  </tbody>\n",
       "</table>\n",
       "<p>5 rows × 31 columns</p>\n",
       "</div>"
      ],
      "text/plain": [
       "      Time         V1        V2         V3        V4         V5        V6   \n",
       "0  88672.0  -3.859881  2.632881  -5.264265  3.446113  -0.675231 -1.904959  \\\n",
       "1  62059.0  -1.644403  3.129852  -2.576977  3.415573  -0.448525 -1.241893   \n",
       "2  13323.0  -5.454362  8.287421 -12.752811  8.594342  -3.106002 -3.179949   \n",
       "3  93965.0 -11.397727  7.763953 -18.572307  6.711855 -10.174216 -4.395918   \n",
       "4  52934.0   1.036639  0.407227   0.757706  3.161821  -0.568122  0.202181   \n",
       "\n",
       "          V7        V8        V9  ...       V21       V22       V23       V24   \n",
       "0  -3.291041 -0.985766 -1.168114  ...  1.664119  0.785075  0.068412  0.778961  \\\n",
       "1  -1.991652  1.002665 -2.809071  ...  0.417762 -0.648576 -0.318617 -0.680413   \n",
       "2  -9.252794  4.245062 -6.329801  ...  1.846165 -0.267172 -0.310804 -1.201685   \n",
       "3 -15.893788  2.083013 -4.988837  ...  0.339007  1.342923  0.239217  0.534644   \n",
       "4  -0.689804  0.411380  0.336769  ... -0.050108  0.123761 -0.132568  0.350231   \n",
       "\n",
       "        V25       V26       V27       V28  Amount  isFraud  \n",
       "0 -0.863166 -0.006810 -1.065734  1.773326    1.18        1  \n",
       "1  0.389869  0.055750  0.394682  0.298821    6.62        1  \n",
       "2  1.352176  0.608425  1.574715  0.808725    1.00        1  \n",
       "3 -0.174965 -0.500240 -1.722060 -0.574339   11.40        1  \n",
       "4  0.507701  0.189621  0.061016  0.063141    0.76        1  \n",
       "\n",
       "[5 rows x 31 columns]"
      ]
     },
     "execution_count": 2,
     "metadata": {},
     "output_type": "execute_result"
    }
   ],
   "source": [
    "from sklearn.model_selection import train_test_split\n",
    "from sklearn.preprocessing import StandardScaler\n",
    "\n",
    "data = pd.read_csv('credit_batch_1.csv')\n",
    "data.head()"
   ]
  },
  {
   "cell_type": "code",
   "execution_count": 3,
   "id": "45c4fd6e",
   "metadata": {},
   "outputs": [
    {
     "data": {
      "text/plain": [
       "isFraud\n",
       "0    8000\n",
       "1     490\n",
       "Name: count, dtype: int64"
      ]
     },
     "execution_count": 3,
     "metadata": {},
     "output_type": "execute_result"
    }
   ],
   "source": [
    "data['isFraud'].value_counts()"
   ]
  },
  {
   "cell_type": "markdown",
   "id": "b2f6aeb1",
   "metadata": {},
   "source": [
    "## Split Dataset"
   ]
  },
  {
   "cell_type": "code",
   "execution_count": 4,
   "id": "0ed9bb94",
   "metadata": {},
   "outputs": [],
   "source": [
    "X = data.drop(['isFraud'], axis=1)\n",
    "y = data['isFraud']\n",
    "\n",
    "#Standardization\n",
    "scaler = StandardScaler()\n",
    "X = scaler.fit_transform(X)\n",
    "\n",
    "X_train, X_test, y_train, y_test = train_test_split(X, y, test_size=.2)"
   ]
  },
  {
   "cell_type": "code",
   "execution_count": 5,
   "id": "043d7812",
   "metadata": {},
   "outputs": [
    {
     "data": {
      "text/plain": [
       "isFraud\n",
       "0    6398\n",
       "1    6398\n",
       "Name: count, dtype: int64"
      ]
     },
     "execution_count": 5,
     "metadata": {},
     "output_type": "execute_result"
    }
   ],
   "source": [
    "from imblearn.over_sampling import SMOTE\n",
    "X_train, y_train = SMOTE(random_state=75).fit_resample(X_train, y_train)\n",
    "\n",
    "pd.Series(y_train).value_counts()"
   ]
  },
  {
   "cell_type": "markdown",
   "id": "e08eeed1",
   "metadata": {},
   "source": [
    "## Define TF Model Layers"
   ]
  },
  {
   "cell_type": "code",
   "execution_count": 6,
   "id": "9744e94f",
   "metadata": {},
   "outputs": [
    {
     "name": "stderr",
     "output_type": "stream",
     "text": [
      "2023-05-04 00:49:27.191986: I tensorflow/core/platform/cpu_feature_guard.cc:182] This TensorFlow binary is optimized to use available CPU instructions in performance-critical operations.\n",
      "To enable the following instructions: AVX2 FMA, in other operations, rebuild TensorFlow with the appropriate compiler flags.\n"
     ]
    }
   ],
   "source": [
    "import tensorflow as tf\n",
    "from tensorflow.keras.models import Sequential, load_model\n",
    "from tensorflow.keras.layers import Dense, Dropout\n",
    "from sklearn.metrics import accuracy_score"
   ]
  },
  {
   "cell_type": "code",
   "execution_count": 7,
   "id": "8f971404",
   "metadata": {},
   "outputs": [],
   "source": [
    "# DNN\n",
    "model = Sequential([\n",
    "Dense(input_dim = 30, units = 128, activation = \"relu\"),\n",
    "Dense(units= 64, activation = \"relu\"),\n",
    "Dropout(0.2),\n",
    "Dense(units= 32, activation = \"relu\"),\n",
    "Dropout(0.2),\n",
    "Dense(units= 16, activation = \"relu\"),\n",
    "Dropout(0.2),\n",
    "Dense(units=1, activation = \"sigmoid\")])"
   ]
  },
  {
   "cell_type": "code",
   "execution_count": 8,
   "id": "4b5bcc2b",
   "metadata": {},
   "outputs": [],
   "source": [
    "# Add training callbacks\n",
    "from keras.callbacks import LambdaCallback, Callback\n",
    "\n",
    "current_epoch = 0\n",
    "current_weights = None\n",
    "current_loss = None\n",
    "current_accuracy = None\n",
    "\n",
    "def update_current_epoch():\n",
    "    global current_epoch\n",
    "    current_epoch += 1\n",
    "    \n",
    "def update_current_weights():\n",
    "    global current_weights\n",
    "    current_weights = model.layers[0].get_weights()\n",
    "    \n",
    "def update_current_performance(loss, accuracy):\n",
    "    global current_loss, current_accuracy\n",
    "    current_loss = loss\n",
    "    current_accuracy = accuracy\n",
    "\n",
    "class CustomCallback(Callback):\n",
    "\n",
    "    def on_epoch_end(self, batch, logs=None):\n",
    "        update_current_epoch()\n",
    "        update_current_weights()\n",
    "        update_current_performance(logs['loss'], logs['accuracy'])\n",
    "\n",
    "\n",
    "model.compile(loss='binary_crossentropy', optimizer='adam', metrics='accuracy')"
   ]
  },
  {
   "cell_type": "code",
   "execution_count": 9,
   "id": "73497217",
   "metadata": {},
   "outputs": [
    {
     "data": {
      "image/png": "[encoded data removed]",
      "text/plain": [
       "<IPython.core.display.Image object>"
      ]
     },
     "execution_count": 9,
     "metadata": {},
     "output_type": "execute_result"
    }
   ],
   "source": [
    "# show model structure \n",
    "from tensorflow.keras.utils import plot_model \n",
    "plot_model(model)"
   ]
  },
  {
   "cell_type": "markdown",
   "id": "ba630290",
   "metadata": {},
   "source": [
    "## Model Training"
   ]
  },
  {
   "cell_type": "code",
   "execution_count": 10,
   "id": "c04e4f45",
   "metadata": {
    "scrolled": true
   },
   "outputs": [
    {
     "name": "stdout",
     "output_type": "stream",
     "text": [
      "Epoch 1/50\n",
      "128/128 [==============================] - 1s 989us/step - loss: 0.2087 - accuracy: 0.9199\n",
      "Epoch 2/50\n",
      "128/128 [==============================] - 0s 942us/step - loss: 0.0905 - accuracy: 0.9682\n",
      "Epoch 3/50\n",
      "128/128 [==============================] - 0s 941us/step - loss: 0.0570 - accuracy: 0.9805\n",
      "Epoch 4/50\n",
      "128/128 [==============================] - 0s 937us/step - loss: 0.0354 - accuracy: 0.9884\n",
      "Epoch 5/50\n",
      "128/128 [==============================] - 0s 893us/step - loss: 0.0231 - accuracy: 0.9934\n",
      "Epoch 6/50\n",
      "128/128 [==============================] - 0s 905us/step - loss: 0.0147 - accuracy: 0.9955\n",
      "Epoch 7/50\n",
      "128/128 [==============================] - 0s 883us/step - loss: 0.0186 - accuracy: 0.9946\n",
      "Epoch 8/50\n",
      "128/128 [==============================] - 0s 968us/step - loss: 0.0098 - accuracy: 0.9973\n",
      "Epoch 9/50\n",
      "128/128 [==============================] - 0s 1ms/step - loss: 0.0120 - accuracy: 0.9969\n",
      "Epoch 10/50\n",
      "128/128 [==============================] - 0s 1ms/step - loss: 0.0058 - accuracy: 0.9984\n",
      "Epoch 11/50\n",
      "128/128 [==============================] - 0s 988us/step - loss: 0.0055 - accuracy: 0.9983\n",
      "Epoch 12/50\n",
      "128/128 [==============================] - 0s 1ms/step - loss: 0.0044 - accuracy: 0.9987\n",
      "Epoch 13/50\n",
      "128/128 [==============================] - 0s 1ms/step - loss: 0.0026 - accuracy: 0.9993\n",
      "Epoch 14/50\n",
      "128/128 [==============================] - 0s 949us/step - loss: 0.0025 - accuracy: 0.9995\n",
      "Epoch 15/50\n",
      "128/128 [==============================] - 0s 910us/step - loss: 0.0012 - accuracy: 0.9999\n",
      "Epoch 16/50\n",
      "128/128 [==============================] - 0s 962us/step - loss: 7.3102e-04 - accuracy: 0.9998\n",
      "Epoch 17/50\n",
      "128/128 [==============================] - 0s 913us/step - loss: 0.0015 - accuracy: 0.9995\n",
      "Epoch 18/50\n",
      "128/128 [==============================] - 0s 879us/step - loss: 0.0056 - accuracy: 0.9983\n",
      "Epoch 19/50\n",
      "128/128 [==============================] - 0s 946us/step - loss: 0.0057 - accuracy: 0.9983\n",
      "Epoch 20/50\n",
      "128/128 [==============================] - 0s 931us/step - loss: 0.0029 - accuracy: 0.9994\n",
      "Epoch 21/50\n",
      "128/128 [==============================] - 0s 907us/step - loss: 0.0110 - accuracy: 0.9987\n",
      "Epoch 22/50\n",
      "128/128 [==============================] - 0s 912us/step - loss: 0.0012 - accuracy: 0.9998\n",
      "Epoch 23/50\n",
      "128/128 [==============================] - 0s 886us/step - loss: 7.1451e-04 - accuracy: 0.9999\n",
      "Epoch 24/50\n",
      "128/128 [==============================] - 0s 882us/step - loss: 0.0013 - accuracy: 0.9997\n",
      "Epoch 25/50\n",
      "128/128 [==============================] - 0s 891us/step - loss: 0.0011 - accuracy: 0.9996\n",
      "Epoch 26/50\n",
      "128/128 [==============================] - 0s 913us/step - loss: 5.2224e-04 - accuracy: 0.9999\n",
      "Epoch 27/50\n",
      "128/128 [==============================] - 0s 900us/step - loss: 2.7190e-04 - accuracy: 1.0000\n",
      "Epoch 28/50\n",
      "128/128 [==============================] - 0s 877us/step - loss: 0.0042 - accuracy: 0.9986\n",
      "Epoch 29/50\n",
      "128/128 [==============================] - 0s 885us/step - loss: 0.0024 - accuracy: 0.9994\n",
      "Epoch 30/50\n",
      "128/128 [==============================] - 0s 883us/step - loss: 4.5273e-04 - accuracy: 1.0000\n",
      "Epoch 31/50\n",
      "128/128 [==============================] - 0s 880us/step - loss: 7.2196e-04 - accuracy: 0.9998\n",
      "Epoch 32/50\n",
      "128/128 [==============================] - 0s 882us/step - loss: 2.5170e-04 - accuracy: 1.0000\n",
      "Epoch 33/50\n",
      "128/128 [==============================] - 0s 886us/step - loss: 1.0648e-04 - accuracy: 1.0000\n",
      "Epoch 34/50\n",
      "128/128 [==============================] - 0s 875us/step - loss: 2.0140e-04 - accuracy: 1.0000\n",
      "Epoch 35/50\n",
      "128/128 [==============================] - 0s 1ms/step - loss: 0.0048 - accuracy: 0.9992\n",
      "Epoch 36/50\n",
      "128/128 [==============================] - 0s 1ms/step - loss: 0.0024 - accuracy: 0.9992\n",
      "Epoch 37/50\n",
      "128/128 [==============================] - 0s 910us/step - loss: 0.0076 - accuracy: 0.9985\n",
      "Epoch 38/50\n",
      "128/128 [==============================] - 0s 892us/step - loss: 0.0031 - accuracy: 0.9991\n",
      "Epoch 39/50\n",
      "128/128 [==============================] - 0s 871us/step - loss: 0.0028 - accuracy: 0.9995\n",
      "Epoch 40/50\n",
      "128/128 [==============================] - 0s 923us/step - loss: 8.0541e-04 - accuracy: 0.9998\n",
      "Epoch 41/50\n",
      "128/128 [==============================] - 0s 904us/step - loss: 4.9357e-04 - accuracy: 0.9999\n",
      "Epoch 42/50\n",
      "128/128 [==============================] - 0s 875us/step - loss: 1.1293e-04 - accuracy: 1.0000\n",
      "Epoch 43/50\n",
      "128/128 [==============================] - 0s 889us/step - loss: 9.1207e-05 - accuracy: 1.0000\n",
      "Epoch 44/50\n",
      "128/128 [==============================] - 0s 912us/step - loss: 8.3548e-05 - accuracy: 1.0000\n",
      "Epoch 45/50\n",
      "128/128 [==============================] - 0s 888us/step - loss: 8.1733e-05 - accuracy: 1.0000\n",
      "Epoch 46/50\n",
      "128/128 [==============================] - 0s 988us/step - loss: 7.7251e-04 - accuracy: 0.9998\n",
      "Epoch 47/50\n",
      "128/128 [==============================] - 0s 950us/step - loss: 2.5036e-04 - accuracy: 1.0000\n",
      "Epoch 48/50\n",
      "128/128 [==============================] - 0s 929us/step - loss: 0.0015 - accuracy: 0.9995\n",
      "Epoch 49/50\n",
      "128/128 [==============================] - 0s 982us/step - loss: 4.7760e-04 - accuracy: 0.9999\n",
      "Epoch 50/50\n",
      "128/128 [==============================] - 0s 906us/step - loss: 9.3664e-05 - accuracy: 1.0000\n"
     ]
    },
    {
     "data": {
      "text/plain": [
       "<keras.callbacks.History at 0x7f7e71b9b790>"
      ]
     },
     "execution_count": 10,
     "metadata": {},
     "output_type": "execute_result"
    }
   ],
   "source": [
    "X_train = np.asarray(X_train).astype(np.float32)\n",
    "y_train = np.asarray(y_train).astype(np.float32)\n",
    "\n",
    "X_test = np.asarray(X_test).astype(np.float32)\n",
    "y_test = np.asarray(y_test).astype(np.float32)\n",
    "\n",
    "model.fit(X_train, y_train, epochs=50, batch_size=100, callbacks = [CustomCallback()])"
   ]
  },
  {
   "cell_type": "markdown",
   "id": "5e62d931",
   "metadata": {},
   "source": [
    "## Model Evaluation"
   ]
  },
  {
   "cell_type": "code",
   "execution_count": 11,
   "id": "e3aa5105",
   "metadata": {},
   "outputs": [
    {
     "name": "stdout",
     "output_type": "stream",
     "text": [
      "54/54 [==============================] - 0s 553us/step\n"
     ]
    }
   ],
   "source": [
    "y_hat = model.predict(X_test)\n",
    "y_hat = [0 if val < 0.5 else 1 for val in y_hat]"
   ]
  },
  {
   "cell_type": "code",
   "execution_count": 12,
   "id": "33f4a76e",
   "metadata": {},
   "outputs": [
    {
     "data": {
      "text/plain": [
       "0.9893992932862191"
      ]
     },
     "execution_count": 12,
     "metadata": {},
     "output_type": "execute_result"
    }
   ],
   "source": [
    "accuracy_score(y_test, y_hat)"
   ]
  },
  {
   "cell_type": "code",
   "execution_count": 13,
   "id": "4cbe77f3",
   "metadata": {},
   "outputs": [
    {
     "name": "stdout",
     "output_type": "stream",
     "text": [
      "54/54 [==============================] - 0s 680us/step - loss: 0.2398 - accuracy: 0.9894\n"
     ]
    },
    {
     "data": {
      "text/plain": [
       "[0.23977497220039368, 0.9893993139266968]"
      ]
     },
     "execution_count": 13,
     "metadata": {},
     "output_type": "execute_result"
    }
   ],
   "source": [
    "model.evaluate(X_test, y_test)"
   ]
  },
  {
   "cell_type": "markdown",
   "id": "8146ac28",
   "metadata": {},
   "source": [
    "## Save Model"
   ]
  },
  {
   "cell_type": "code",
   "execution_count": 14,
   "id": "39a02448",
   "metadata": {},
   "outputs": [],
   "source": [
    "# model.save('pretrained_model')"
   ]
  },
  {
   "cell_type": "code",
   "execution_count": 15,
   "id": "bde4927e",
   "metadata": {},
   "outputs": [],
   "source": [
    "# # Load model\n",
    "# del model\n",
    "# model = load_model('pretrained_model')"
   ]
  },
  {
   "cell_type": "code",
   "execution_count": null,
   "id": "77dc6f58",
   "metadata": {},
   "outputs": [],
   "source": []
  },
  {
   "cell_type": "markdown",
   "id": "772850df",
   "metadata": {},
   "source": [
    "## Check Updated Local States"
   ]
  },
  {
   "cell_type": "code",
   "execution_count": 16,
   "id": "c32e3d92",
   "metadata": {},
   "outputs": [],
   "source": [
    "def check_local_state():\n",
    "    print(\"Current epoch:\", current_epoch)\n",
    "    print(\"Current weights:\", current_weights)\n",
    "    print(\"Current loss: {}, accuracy: {}\".format(current_loss, current_accuracy))"
   ]
  },
  {
   "cell_type": "code",
   "execution_count": 17,
   "id": "f68befeb",
   "metadata": {},
   "outputs": [
    {
     "name": "stdout",
     "output_type": "stream",
     "text": [
      "Current epoch: 50\n",
      "Current weights: [array([[ 0.15431066,  0.12361097, -0.01848336, ...,  0.20996231,\n",
      "        -0.12576202,  0.2220981 ],\n",
      "       [-0.19598782,  0.08777609, -0.02627608, ...,  0.25590143,\n",
      "        -0.36792332, -0.06249547],\n",
      "       [ 0.22722156, -0.22586308,  0.09418079, ...,  0.00161112,\n",
      "         0.20652501, -0.16950078],\n",
      "       ...,\n",
      "       [-0.11819647, -0.04367141,  0.11831068, ..., -0.21230078,\n",
      "         0.16099764, -0.17520204],\n",
      "       [ 0.3025069 ,  0.11962485,  0.05586259, ...,  0.18774629,\n",
      "         0.00890966,  0.01046886],\n",
      "       [-0.10197764, -0.05634901, -0.07621078, ...,  0.0689083 ,\n",
      "         0.1714542 ,  0.0376121 ]], dtype=float32), array([-0.01350128,  0.07503058, -0.10688986, -0.03848607, -0.04753429,\n",
      "       -0.01081146, -0.14980137, -0.09135803,  0.04938711, -0.14910673,\n",
      "       -0.1472885 , -0.10549573, -0.01357349,  0.0176871 , -0.09908132,\n",
      "        0.04127047, -0.05462746, -0.16739197, -0.06805372, -0.03679273,\n",
      "        0.01477204, -0.02051158,  0.02737469,  0.0345044 ,  0.01793977,\n",
      "       -0.13246574, -0.0123464 ,  0.00660484, -0.08980769, -0.04019908,\n",
      "       -0.13958703, -0.00952627, -0.05598634, -0.00339462,  0.07901017,\n",
      "       -0.07666918, -0.0525178 , -0.0865558 , -0.14537318, -0.02924911,\n",
      "       -0.06851067, -0.0077041 , -0.02744299, -0.0039396 , -0.06194134,\n",
      "       -0.1091929 , -0.07676626, -0.01870454, -0.14667381, -0.19137521,\n",
      "       -0.01325959, -0.07847698,  0.07010441, -0.0993452 ,  0.09431401,\n",
      "       -0.04822966, -0.07654514, -0.08514693, -0.04387723, -0.05855369,\n",
      "        0.07197679,  0.03976291,  0.00596832, -0.12152414, -0.04137911,\n",
      "       -0.12085732, -0.03744726, -0.12782414, -0.09780282, -0.05921607,\n",
      "       -0.08085619,  0.00128327, -0.13168898, -0.07309848,  0.01515043,\n",
      "       -0.11766429, -0.06329841, -0.1111508 , -0.10315259, -0.08493609,\n",
      "       -0.09866443, -0.05242443,  0.15956765, -0.03746087,  0.05439118,\n",
      "       -0.15230045, -0.05048705, -0.14793307, -0.06734028, -0.08841394,\n",
      "        0.02122713, -0.0454709 , -0.10289299, -0.02762655, -0.13901278,\n",
      "       -0.05147858, -0.06078586, -0.09278801, -0.11210431, -0.06655957,\n",
      "       -0.12765159, -0.1071682 , -0.05554737, -0.1332135 , -0.12068649,\n",
      "       -0.07192371, -0.1141172 , -0.01669694, -0.07257108, -0.09251907,\n",
      "        0.00685838, -0.06070002, -0.05041356, -0.10698281,  0.04065197,\n",
      "       -0.0546739 , -0.0316339 , -0.06763308, -0.0218944 ,  0.08715067,\n",
      "       -0.07676809, -0.04504705,  0.06565473, -0.06977557, -0.08737241,\n",
      "       -0.0826859 , -0.04019021, -0.01332671], dtype=float32)]\n",
      "Current loss: 9.366418089484796e-05, accuracy: 1.0\n"
     ]
    }
   ],
   "source": [
    "check_local_state()"
   ]
  }
 ],
 "metadata": {
  "kernelspec": {
   "display_name": "Python 3 (ipykernel)",
   "language": "python",
   "name": "python3"
  },
  "language_info": {
   "codemirror_mode": {
    "name": "ipython",
    "version": 3
   },
   "file_extension": ".py",
   "mimetype": "text/x-python",
   "name": "python",
   "nbconvert_exporter": "python",
   "pygments_lexer": "ipython3",
   "version": "3.10.11"
  }
 },
 "nbformat": 4,
 "nbformat_minor": 5
}
