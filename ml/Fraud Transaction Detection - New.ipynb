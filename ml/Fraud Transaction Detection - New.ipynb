{
 "cells": [
  {
   "cell_type": "code",
   "execution_count": 1,
   "id": "99c289ea",
   "metadata": {},
   "outputs": [],
   "source": [
    "import pandas as pd\n",
    "import numpy as np"
   ]
  },
  {
   "cell_type": "code",
   "execution_count": 2,
   "id": "86292061",
   "metadata": {},
   "outputs": [
    {
     "data": {
      "text/html": [
       "<div>\n",
       "<style scoped>\n",
       "    .dataframe tbody tr th:only-of-type {\n",
       "        vertical-align: middle;\n",
       "    }\n",
       "\n",
       "    .dataframe tbody tr th {\n",
       "        vertical-align: top;\n",
       "    }\n",
       "\n",
       "    .dataframe thead th {\n",
       "        text-align: right;\n",
       "    }\n",
       "</style>\n",
       "<table border=\"1\" class=\"dataframe\">\n",
       "  <thead>\n",
       "    <tr style=\"text-align: right;\">\n",
       "      <th></th>\n",
       "      <th>Time</th>\n",
       "      <th>V1</th>\n",
       "      <th>V2</th>\n",
       "      <th>V3</th>\n",
       "      <th>V4</th>\n",
       "      <th>V5</th>\n",
       "      <th>V6</th>\n",
       "      <th>V7</th>\n",
       "      <th>V8</th>\n",
       "      <th>V9</th>\n",
       "      <th>...</th>\n",
       "      <th>V21</th>\n",
       "      <th>V22</th>\n",
       "      <th>V23</th>\n",
       "      <th>V24</th>\n",
       "      <th>V25</th>\n",
       "      <th>V26</th>\n",
       "      <th>V27</th>\n",
       "      <th>V28</th>\n",
       "      <th>Amount</th>\n",
       "      <th>isFraud</th>\n",
       "    </tr>\n",
       "  </thead>\n",
       "  <tbody>\n",
       "    <tr>\n",
       "      <th>0</th>\n",
       "      <td>88672.0</td>\n",
       "      <td>-3.859881</td>\n",
       "      <td>2.632881</td>\n",
       "      <td>-5.264265</td>\n",
       "      <td>3.446113</td>\n",
       "      <td>-0.675231</td>\n",
       "      <td>-1.904959</td>\n",
       "      <td>-3.291041</td>\n",
       "      <td>-0.985766</td>\n",
       "      <td>-1.168114</td>\n",
       "      <td>...</td>\n",
       "      <td>1.664119</td>\n",
       "      <td>0.785075</td>\n",
       "      <td>0.068412</td>\n",
       "      <td>0.778961</td>\n",
       "      <td>-0.863166</td>\n",
       "      <td>-0.006810</td>\n",
       "      <td>-1.065734</td>\n",
       "      <td>1.773326</td>\n",
       "      <td>1.18</td>\n",
       "      <td>1</td>\n",
       "    </tr>\n",
       "    <tr>\n",
       "      <th>1</th>\n",
       "      <td>62059.0</td>\n",
       "      <td>-1.644403</td>\n",
       "      <td>3.129852</td>\n",
       "      <td>-2.576977</td>\n",
       "      <td>3.415573</td>\n",
       "      <td>-0.448525</td>\n",
       "      <td>-1.241893</td>\n",
       "      <td>-1.991652</td>\n",
       "      <td>1.002665</td>\n",
       "      <td>-2.809071</td>\n",
       "      <td>...</td>\n",
       "      <td>0.417762</td>\n",
       "      <td>-0.648576</td>\n",
       "      <td>-0.318617</td>\n",
       "      <td>-0.680413</td>\n",
       "      <td>0.389869</td>\n",
       "      <td>0.055750</td>\n",
       "      <td>0.394682</td>\n",
       "      <td>0.298821</td>\n",
       "      <td>6.62</td>\n",
       "      <td>1</td>\n",
       "    </tr>\n",
       "    <tr>\n",
       "      <th>2</th>\n",
       "      <td>13323.0</td>\n",
       "      <td>-5.454362</td>\n",
       "      <td>8.287421</td>\n",
       "      <td>-12.752811</td>\n",
       "      <td>8.594342</td>\n",
       "      <td>-3.106002</td>\n",
       "      <td>-3.179949</td>\n",
       "      <td>-9.252794</td>\n",
       "      <td>4.245062</td>\n",
       "      <td>-6.329801</td>\n",
       "      <td>...</td>\n",
       "      <td>1.846165</td>\n",
       "      <td>-0.267172</td>\n",
       "      <td>-0.310804</td>\n",
       "      <td>-1.201685</td>\n",
       "      <td>1.352176</td>\n",
       "      <td>0.608425</td>\n",
       "      <td>1.574715</td>\n",
       "      <td>0.808725</td>\n",
       "      <td>1.00</td>\n",
       "      <td>1</td>\n",
       "    </tr>\n",
       "    <tr>\n",
       "      <th>3</th>\n",
       "      <td>93965.0</td>\n",
       "      <td>-11.397727</td>\n",
       "      <td>7.763953</td>\n",
       "      <td>-18.572307</td>\n",
       "      <td>6.711855</td>\n",
       "      <td>-10.174216</td>\n",
       "      <td>-4.395918</td>\n",
       "      <td>-15.893788</td>\n",
       "      <td>2.083013</td>\n",
       "      <td>-4.988837</td>\n",
       "      <td>...</td>\n",
       "      <td>0.339007</td>\n",
       "      <td>1.342923</td>\n",
       "      <td>0.239217</td>\n",
       "      <td>0.534644</td>\n",
       "      <td>-0.174965</td>\n",
       "      <td>-0.500240</td>\n",
       "      <td>-1.722060</td>\n",
       "      <td>-0.574339</td>\n",
       "      <td>11.40</td>\n",
       "      <td>1</td>\n",
       "    </tr>\n",
       "    <tr>\n",
       "      <th>4</th>\n",
       "      <td>52934.0</td>\n",
       "      <td>1.036639</td>\n",
       "      <td>0.407227</td>\n",
       "      <td>0.757706</td>\n",
       "      <td>3.161821</td>\n",
       "      <td>-0.568122</td>\n",
       "      <td>0.202181</td>\n",
       "      <td>-0.689804</td>\n",
       "      <td>0.411380</td>\n",
       "      <td>0.336769</td>\n",
       "      <td>...</td>\n",
       "      <td>-0.050108</td>\n",
       "      <td>0.123761</td>\n",
       "      <td>-0.132568</td>\n",
       "      <td>0.350231</td>\n",
       "      <td>0.507701</td>\n",
       "      <td>0.189621</td>\n",
       "      <td>0.061016</td>\n",
       "      <td>0.063141</td>\n",
       "      <td>0.76</td>\n",
       "      <td>1</td>\n",
       "    </tr>\n",
       "  </tbody>\n",
       "</table>\n",
       "<p>5 rows × 31 columns</p>\n",
       "</div>"
      ],
      "text/plain": [
       "      Time         V1        V2         V3        V4         V5        V6   \n",
       "0  88672.0  -3.859881  2.632881  -5.264265  3.446113  -0.675231 -1.904959  \\\n",
       "1  62059.0  -1.644403  3.129852  -2.576977  3.415573  -0.448525 -1.241893   \n",
       "2  13323.0  -5.454362  8.287421 -12.752811  8.594342  -3.106002 -3.179949   \n",
       "3  93965.0 -11.397727  7.763953 -18.572307  6.711855 -10.174216 -4.395918   \n",
       "4  52934.0   1.036639  0.407227   0.757706  3.161821  -0.568122  0.202181   \n",
       "\n",
       "          V7        V8        V9  ...       V21       V22       V23       V24   \n",
       "0  -3.291041 -0.985766 -1.168114  ...  1.664119  0.785075  0.068412  0.778961  \\\n",
       "1  -1.991652  1.002665 -2.809071  ...  0.417762 -0.648576 -0.318617 -0.680413   \n",
       "2  -9.252794  4.245062 -6.329801  ...  1.846165 -0.267172 -0.310804 -1.201685   \n",
       "3 -15.893788  2.083013 -4.988837  ...  0.339007  1.342923  0.239217  0.534644   \n",
       "4  -0.689804  0.411380  0.336769  ... -0.050108  0.123761 -0.132568  0.350231   \n",
       "\n",
       "        V25       V26       V27       V28  Amount  isFraud  \n",
       "0 -0.863166 -0.006810 -1.065734  1.773326    1.18        1  \n",
       "1  0.389869  0.055750  0.394682  0.298821    6.62        1  \n",
       "2  1.352176  0.608425  1.574715  0.808725    1.00        1  \n",
       "3 -0.174965 -0.500240 -1.722060 -0.574339   11.40        1  \n",
       "4  0.507701  0.189621  0.061016  0.063141    0.76        1  \n",
       "\n",
       "[5 rows x 31 columns]"
      ]
     },
     "execution_count": 2,
     "metadata": {},
     "output_type": "execute_result"
    }
   ],
   "source": [
    "from sklearn.model_selection import train_test_split\n",
    "from sklearn.preprocessing import StandardScaler\n",
    "\n",
    "data = pd.read_csv('credit_batch_1.csv')\n",
    "data.head()"
   ]
  },
  {
   "cell_type": "code",
   "execution_count": 3,
   "id": "45c4fd6e",
   "metadata": {},
   "outputs": [
    {
     "data": {
      "text/plain": [
       "isFraud\n",
       "0    8000\n",
       "1     490\n",
       "Name: count, dtype: int64"
      ]
     },
     "execution_count": 3,
     "metadata": {},
     "output_type": "execute_result"
    }
   ],
   "source": [
    "data['isFraud'].value_counts()"
   ]
  },
  {
   "cell_type": "markdown",
   "id": "55d70fa8",
   "metadata": {},
   "source": [
    "## Split Dataset"
   ]
  },
  {
   "cell_type": "code",
   "execution_count": 4,
   "id": "0ed9bb94",
   "metadata": {},
   "outputs": [],
   "source": [
    "X = data.drop(['isFraud'], axis=1)\n",
    "y = data['isFraud']\n",
    "\n",
    "#Standardization\n",
    "scaler = StandardScaler()\n",
    "X = scaler.fit_transform(X)\n",
    "\n",
    "X_train, X_test, y_train, y_test = train_test_split(X, y, test_size=.2)"
   ]
  },
  {
   "cell_type": "code",
   "execution_count": 5,
   "id": "043d7812",
   "metadata": {},
   "outputs": [
    {
     "data": {
      "text/plain": [
       "isFraud\n",
       "0    6405\n",
       "1    6405\n",
       "Name: count, dtype: int64"
      ]
     },
     "execution_count": 5,
     "metadata": {},
     "output_type": "execute_result"
    }
   ],
   "source": [
    "from imblearn.over_sampling import SMOTE\n",
    "X_train, y_train = SMOTE(random_state=75).fit_resample(X_train, y_train)\n",
    "\n",
    "pd.Series(y_train).value_counts()"
   ]
  },
  {
   "cell_type": "markdown",
   "id": "e08eeed1",
   "metadata": {},
   "source": [
    "## Define TF Model Layers"
   ]
  },
  {
   "cell_type": "code",
   "execution_count": 6,
   "id": "9744e94f",
   "metadata": {},
   "outputs": [
    {
     "name": "stderr",
     "output_type": "stream",
     "text": [
      "2023-05-02 20:16:18.962200: I tensorflow/core/platform/cpu_feature_guard.cc:182] This TensorFlow binary is optimized to use available CPU instructions in performance-critical operations.\n",
      "To enable the following instructions: AVX2 FMA, in other operations, rebuild TensorFlow with the appropriate compiler flags.\n"
     ]
    }
   ],
   "source": [
    "import tensorflow as tf\n",
    "from tensorflow.keras.models import Sequential, load_model\n",
    "from tensorflow.keras.layers import Dense, Dropout\n",
    "from sklearn.metrics import accuracy_score"
   ]
  },
  {
   "cell_type": "code",
   "execution_count": 7,
   "id": "8f971404",
   "metadata": {},
   "outputs": [],
   "source": [
    "# DNN\n",
    "model = Sequential([\n",
    "Dense(input_dim = 30, units = 128, activation = \"relu\"),\n",
    "Dense(units= 64, activation = \"relu\"),\n",
    "Dropout(0.2),\n",
    "Dense(units= 32, activation = \"relu\"),\n",
    "Dropout(0.2),\n",
    "Dense(units= 16, activation = \"relu\"),\n",
    "Dropout(0.2),\n",
    "Dense(units=1, activation = \"sigmoid\")])"
   ]
  },
  {
   "cell_type": "code",
   "execution_count": 8,
   "id": "4b5bcc2b",
   "metadata": {},
   "outputs": [],
   "source": [
    "model.compile(loss='binary_crossentropy', optimizer='adam', metrics='accuracy')"
   ]
  },
  {
   "cell_type": "markdown",
   "id": "ba630290",
   "metadata": {},
   "source": [
    "## Model Training"
   ]
  },
  {
   "cell_type": "code",
   "execution_count": 9,
   "id": "c04e4f45",
   "metadata": {},
   "outputs": [
    {
     "name": "stdout",
     "output_type": "stream",
     "text": [
      "Epoch 1/50\n",
      "129/129 [==============================] - 1s 952us/step - loss: 0.2350 - accuracy: 0.9080\n",
      "Epoch 2/50\n",
      "129/129 [==============================] - 0s 935us/step - loss: 0.0836 - accuracy: 0.9699\n",
      "Epoch 3/50\n",
      "129/129 [==============================] - 0s 891us/step - loss: 0.0473 - accuracy: 0.9830\n",
      "Epoch 4/50\n",
      "129/129 [==============================] - 0s 896us/step - loss: 0.0415 - accuracy: 0.9886\n",
      "Epoch 5/50\n",
      "129/129 [==============================] - 0s 904us/step - loss: 0.0270 - accuracy: 0.9920\n",
      "Epoch 6/50\n",
      "129/129 [==============================] - 0s 943us/step - loss: 0.0186 - accuracy: 0.9959\n",
      "Epoch 7/50\n",
      "129/129 [==============================] - 0s 909us/step - loss: 0.0120 - accuracy: 0.9966\n",
      "Epoch 8/50\n",
      "129/129 [==============================] - 0s 906us/step - loss: 0.0113 - accuracy: 0.9970\n",
      "Epoch 9/50\n",
      "129/129 [==============================] - 0s 912us/step - loss: 0.0078 - accuracy: 0.9984\n",
      "Epoch 10/50\n",
      "129/129 [==============================] - 0s 882us/step - loss: 0.0083 - accuracy: 0.9975\n",
      "Epoch 11/50\n",
      "129/129 [==============================] - 0s 879us/step - loss: 0.0111 - accuracy: 0.9970\n",
      "Epoch 12/50\n",
      "129/129 [==============================] - 0s 873us/step - loss: 0.0099 - accuracy: 0.9984\n",
      "Epoch 13/50\n",
      "129/129 [==============================] - 0s 876us/step - loss: 0.0047 - accuracy: 0.9988\n",
      "Epoch 14/50\n",
      "129/129 [==============================] - 0s 871us/step - loss: 0.0025 - accuracy: 0.9995\n",
      "Epoch 15/50\n",
      "129/129 [==============================] - 0s 887us/step - loss: 0.0038 - accuracy: 0.9988\n",
      "Epoch 16/50\n",
      "129/129 [==============================] - 0s 925us/step - loss: 0.0018 - accuracy: 0.9994\n",
      "Epoch 17/50\n",
      "129/129 [==============================] - 0s 892us/step - loss: 0.0032 - accuracy: 0.9991\n",
      "Epoch 18/50\n",
      "129/129 [==============================] - 0s 905us/step - loss: 0.0042 - accuracy: 0.9990\n",
      "Epoch 19/50\n",
      "129/129 [==============================] - 0s 893us/step - loss: 0.0016 - accuracy: 0.9996\n",
      "Epoch 20/50\n",
      "129/129 [==============================] - 0s 876us/step - loss: 0.0019 - accuracy: 0.9996\n",
      "Epoch 21/50\n",
      "129/129 [==============================] - 0s 873us/step - loss: 0.0037 - accuracy: 0.9988\n",
      "Epoch 22/50\n",
      "129/129 [==============================] - 0s 878us/step - loss: 0.0103 - accuracy: 0.9973\n",
      "Epoch 23/50\n",
      "129/129 [==============================] - 0s 886us/step - loss: 0.0037 - accuracy: 0.9993\n",
      "Epoch 24/50\n",
      "129/129 [==============================] - 0s 884us/step - loss: 0.0017 - accuracy: 0.9995\n",
      "Epoch 25/50\n",
      "129/129 [==============================] - 0s 889us/step - loss: 0.0018 - accuracy: 0.9996\n",
      "Epoch 26/50\n",
      "129/129 [==============================] - 0s 900us/step - loss: 4.8659e-04 - accuracy: 1.0000\n",
      "Epoch 27/50\n",
      "129/129 [==============================] - 0s 879us/step - loss: 7.9978e-04 - accuracy: 0.9999\n",
      "Epoch 28/50\n",
      "129/129 [==============================] - 0s 887us/step - loss: 0.0019 - accuracy: 0.9997\n",
      "Epoch 29/50\n",
      "129/129 [==============================] - 0s 972us/step - loss: 0.0116 - accuracy: 0.9992\n",
      "Epoch 30/50\n",
      "129/129 [==============================] - 0s 874us/step - loss: 0.0038 - accuracy: 0.9993\n",
      "Epoch 31/50\n",
      "129/129 [==============================] - 0s 915us/step - loss: 0.0022 - accuracy: 0.9995\n",
      "Epoch 32/50\n",
      "129/129 [==============================] - 0s 913us/step - loss: 8.2528e-04 - accuracy: 0.9998\n",
      "Epoch 33/50\n",
      "129/129 [==============================] - 0s 902us/step - loss: 4.0733e-04 - accuracy: 0.9999\n",
      "Epoch 34/50\n",
      "129/129 [==============================] - 0s 913us/step - loss: 2.6455e-04 - accuracy: 1.0000\n",
      "Epoch 35/50\n",
      "129/129 [==============================] - 0s 898us/step - loss: 8.8961e-04 - accuracy: 0.9998\n",
      "Epoch 36/50\n",
      "129/129 [==============================] - 0s 879us/step - loss: 0.0037 - accuracy: 0.9989\n",
      "Epoch 37/50\n",
      "129/129 [==============================] - 0s 879us/step - loss: 0.0045 - accuracy: 0.9992\n",
      "Epoch 38/50\n",
      "129/129 [==============================] - 0s 882us/step - loss: 0.0032 - accuracy: 0.9988\n",
      "Epoch 39/50\n",
      "129/129 [==============================] - 0s 875us/step - loss: 7.5176e-04 - accuracy: 0.9999\n",
      "Epoch 40/50\n",
      "129/129 [==============================] - 0s 884us/step - loss: 6.7731e-04 - accuracy: 0.9998\n",
      "Epoch 41/50\n",
      "129/129 [==============================] - 0s 874us/step - loss: 2.2685e-04 - accuracy: 1.0000\n",
      "Epoch 42/50\n",
      "129/129 [==============================] - 0s 887us/step - loss: 1.9915e-04 - accuracy: 1.0000\n",
      "Epoch 43/50\n",
      "129/129 [==============================] - 0s 930us/step - loss: 2.2875e-04 - accuracy: 1.0000\n",
      "Epoch 44/50\n",
      "129/129 [==============================] - 0s 894us/step - loss: 2.0631e-04 - accuracy: 1.0000\n",
      "Epoch 45/50\n",
      "129/129 [==============================] - 0s 894us/step - loss: 0.0021 - accuracy: 0.9993\n",
      "Epoch 46/50\n",
      "129/129 [==============================] - 0s 903us/step - loss: 0.0048 - accuracy: 0.9992\n",
      "Epoch 47/50\n",
      "129/129 [==============================] - 0s 886us/step - loss: 8.7580e-04 - accuracy: 0.9998\n",
      "Epoch 48/50\n",
      "129/129 [==============================] - 0s 875us/step - loss: 3.0466e-04 - accuracy: 1.0000\n",
      "Epoch 49/50\n",
      "129/129 [==============================] - 0s 881us/step - loss: 2.5457e-04 - accuracy: 1.0000\n",
      "Epoch 50/50\n",
      "129/129 [==============================] - 0s 878us/step - loss: 9.7989e-05 - accuracy: 1.0000\n"
     ]
    },
    {
     "data": {
      "text/plain": [
       "<keras.callbacks.History at 0x7f92e5367df0>"
      ]
     },
     "execution_count": 9,
     "metadata": {},
     "output_type": "execute_result"
    }
   ],
   "source": [
    "X_train = np.asarray(X_train).astype(np.float32)\n",
    "y_train = np.asarray(y_train).astype(np.float32)\n",
    "\n",
    "X_test = np.asarray(X_test).astype(np.float32)\n",
    "y_test = np.asarray(y_test).astype(np.float32)\n",
    "\n",
    "model.fit(X_train, y_train, epochs=50, batch_size=100)"
   ]
  },
  {
   "cell_type": "markdown",
   "id": "5e62d931",
   "metadata": {},
   "source": [
    "## Model Evaluation"
   ]
  },
  {
   "cell_type": "code",
   "execution_count": 10,
   "id": "e3aa5105",
   "metadata": {},
   "outputs": [
    {
     "name": "stdout",
     "output_type": "stream",
     "text": [
      "54/54 [==============================] - 0s 546us/step\n"
     ]
    }
   ],
   "source": [
    "y_hat = model.predict(X_test)\n",
    "y_hat = [0 if val < 0.5 else 1 for val in y_hat]"
   ]
  },
  {
   "cell_type": "code",
   "execution_count": 11,
   "id": "33f4a76e",
   "metadata": {},
   "outputs": [
    {
     "data": {
      "text/plain": [
       "0.9882214369846879"
      ]
     },
     "execution_count": 11,
     "metadata": {},
     "output_type": "execute_result"
    }
   ],
   "source": [
    "accuracy_score(y_test, y_hat)"
   ]
  },
  {
   "cell_type": "code",
   "execution_count": 12,
   "id": "4cbe77f3",
   "metadata": {},
   "outputs": [
    {
     "name": "stdout",
     "output_type": "stream",
     "text": [
      "54/54 [==============================] - 0s 615us/step - loss: 0.1813 - accuracy: 0.9882\n"
     ]
    },
    {
     "data": {
      "text/plain": [
       "[0.1813000738620758, 0.9882214665412903]"
      ]
     },
     "execution_count": 12,
     "metadata": {},
     "output_type": "execute_result"
    }
   ],
   "source": [
    "model.evaluate(X_test, y_test)"
   ]
  }
 ],
 "metadata": {
  "kernelspec": {
   "display_name": "Python 3 (ipykernel)",
   "language": "python",
   "name": "python3"
  },
  "language_info": {
   "codemirror_mode": {
    "name": "ipython",
    "version": 3
   },
   "file_extension": ".py",
   "mimetype": "text/x-python",
   "name": "python",
   "nbconvert_exporter": "python",
   "pygments_lexer": "ipython3",
   "version": "3.10.11"
  }
 },
 "nbformat": 4,
 "nbformat_minor": 5
}
